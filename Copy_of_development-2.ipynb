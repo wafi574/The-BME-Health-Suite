{
  "cells": [
    {
      "cell_type": "markdown",
      "id": "a4704937",
      "metadata": {
        "id": "a4704937"
      },
      "source": [
        "# Multi-Tab Health Calculator App using Gradio\n",
        "EGBI121 Mini project by Kritpatchara Wongkwan 6813353 and Wafi Alsawad 6813426\n"
      ]
    },
    {
      "cell_type": "markdown",
      "id": "17fc0735",
      "metadata": {
        "id": "17fc0735"
      },
      "source": [
        "The BME Health Suite is a multi-tab web application, running on a local device, designed to provide users with essential health and fitness calculations. Built in Python and deployed with Gradio, the application serves as a comprehensive tool with three tabs for calculating and tracking Body Mass Index (BMI), calculating Basal Metabolic Rate (BMR), and logging daily food intake."
      ]
    },
    {
      "cell_type": "markdown",
      "id": "d65457f7",
      "metadata": {
        "id": "d65457f7"
      },
      "source": [
        "### Import necessary libraries"
      ]
    },
    {
      "cell_type": "code",
      "execution_count": 1,
      "id": "0de9915b",
      "metadata": {
        "id": "0de9915b",
        "collapsed": true,
        "colab": {
          "base_uri": "https://localhost:8080/"
        },
        "outputId": "4cdafef7-959e-4b63-de48-4fad413036ae"
      },
      "outputs": [
        {
          "output_type": "stream",
          "name": "stdout",
          "text": [
            "Requirement already satisfied: gradio in /usr/local/lib/python3.12/dist-packages (5.49.0)\n",
            "Collecting gradio\n",
            "  Downloading gradio-5.49.1-py3-none-any.whl.metadata (16 kB)\n",
            "Requirement already satisfied: aiofiles<25.0,>=22.0 in /usr/local/lib/python3.12/dist-packages (from gradio) (24.1.0)\n",
            "Requirement already satisfied: anyio<5.0,>=3.0 in /usr/local/lib/python3.12/dist-packages (from gradio) (4.11.0)\n",
            "Requirement already satisfied: brotli>=1.1.0 in /usr/local/lib/python3.12/dist-packages (from gradio) (1.1.0)\n",
            "Requirement already satisfied: fastapi<1.0,>=0.115.2 in /usr/local/lib/python3.12/dist-packages (from gradio) (0.118.2)\n",
            "Requirement already satisfied: ffmpy in /usr/local/lib/python3.12/dist-packages (from gradio) (0.6.2)\n",
            "Requirement already satisfied: gradio-client==1.13.3 in /usr/local/lib/python3.12/dist-packages (from gradio) (1.13.3)\n",
            "Requirement already satisfied: groovy~=0.1 in /usr/local/lib/python3.12/dist-packages (from gradio) (0.1.2)\n",
            "Requirement already satisfied: httpx<1.0,>=0.24.1 in /usr/local/lib/python3.12/dist-packages (from gradio) (0.28.1)\n",
            "Requirement already satisfied: huggingface-hub<2.0,>=0.33.5 in /usr/local/lib/python3.12/dist-packages (from gradio) (0.35.3)\n",
            "Requirement already satisfied: jinja2<4.0 in /usr/local/lib/python3.12/dist-packages (from gradio) (3.1.6)\n",
            "Requirement already satisfied: markupsafe<4.0,>=2.0 in /usr/local/lib/python3.12/dist-packages (from gradio) (3.0.3)\n",
            "Requirement already satisfied: numpy<3.0,>=1.0 in /usr/local/lib/python3.12/dist-packages (from gradio) (2.0.2)\n",
            "Requirement already satisfied: orjson~=3.0 in /usr/local/lib/python3.12/dist-packages (from gradio) (3.11.3)\n",
            "Requirement already satisfied: packaging in /usr/local/lib/python3.12/dist-packages (from gradio) (25.0)\n",
            "Requirement already satisfied: pandas<3.0,>=1.0 in /usr/local/lib/python3.12/dist-packages (from gradio) (2.2.2)\n",
            "Requirement already satisfied: pillow<12.0,>=8.0 in /usr/local/lib/python3.12/dist-packages (from gradio) (11.3.0)\n",
            "Requirement already satisfied: pydantic<2.12,>=2.0 in /usr/local/lib/python3.12/dist-packages (from gradio) (2.11.10)\n",
            "Requirement already satisfied: pydub in /usr/local/lib/python3.12/dist-packages (from gradio) (0.25.1)\n",
            "Requirement already satisfied: python-multipart>=0.0.18 in /usr/local/lib/python3.12/dist-packages (from gradio) (0.0.20)\n",
            "Requirement already satisfied: pyyaml<7.0,>=5.0 in /usr/local/lib/python3.12/dist-packages (from gradio) (6.0.3)\n",
            "Requirement already satisfied: ruff>=0.9.3 in /usr/local/lib/python3.12/dist-packages (from gradio) (0.14.0)\n",
            "Requirement already satisfied: safehttpx<0.2.0,>=0.1.6 in /usr/local/lib/python3.12/dist-packages (from gradio) (0.1.6)\n",
            "Requirement already satisfied: semantic-version~=2.0 in /usr/local/lib/python3.12/dist-packages (from gradio) (2.10.0)\n",
            "Requirement already satisfied: starlette<1.0,>=0.40.0 in /usr/local/lib/python3.12/dist-packages (from gradio) (0.48.0)\n",
            "Requirement already satisfied: tomlkit<0.14.0,>=0.12.0 in /usr/local/lib/python3.12/dist-packages (from gradio) (0.13.3)\n",
            "Requirement already satisfied: typer<1.0,>=0.12 in /usr/local/lib/python3.12/dist-packages (from gradio) (0.19.2)\n",
            "Requirement already satisfied: typing-extensions~=4.0 in /usr/local/lib/python3.12/dist-packages (from gradio) (4.15.0)\n",
            "Requirement already satisfied: uvicorn>=0.14.0 in /usr/local/lib/python3.12/dist-packages (from gradio) (0.37.0)\n",
            "Requirement already satisfied: fsspec in /usr/local/lib/python3.12/dist-packages (from gradio-client==1.13.3->gradio) (2025.3.0)\n",
            "Requirement already satisfied: websockets<16.0,>=13.0 in /usr/local/lib/python3.12/dist-packages (from gradio-client==1.13.3->gradio) (15.0.1)\n",
            "Requirement already satisfied: idna>=2.8 in /usr/local/lib/python3.12/dist-packages (from anyio<5.0,>=3.0->gradio) (3.10)\n",
            "Requirement already satisfied: sniffio>=1.1 in /usr/local/lib/python3.12/dist-packages (from anyio<5.0,>=3.0->gradio) (1.3.1)\n",
            "Requirement already satisfied: certifi in /usr/local/lib/python3.12/dist-packages (from httpx<1.0,>=0.24.1->gradio) (2025.10.5)\n",
            "Requirement already satisfied: httpcore==1.* in /usr/local/lib/python3.12/dist-packages (from httpx<1.0,>=0.24.1->gradio) (1.0.9)\n",
            "Requirement already satisfied: h11>=0.16 in /usr/local/lib/python3.12/dist-packages (from httpcore==1.*->httpx<1.0,>=0.24.1->gradio) (0.16.0)\n",
            "Requirement already satisfied: filelock in /usr/local/lib/python3.12/dist-packages (from huggingface-hub<2.0,>=0.33.5->gradio) (3.20.0)\n",
            "Requirement already satisfied: requests in /usr/local/lib/python3.12/dist-packages (from huggingface-hub<2.0,>=0.33.5->gradio) (2.32.4)\n",
            "Requirement already satisfied: tqdm>=4.42.1 in /usr/local/lib/python3.12/dist-packages (from huggingface-hub<2.0,>=0.33.5->gradio) (4.67.1)\n",
            "Requirement already satisfied: hf-xet<2.0.0,>=1.1.3 in /usr/local/lib/python3.12/dist-packages (from huggingface-hub<2.0,>=0.33.5->gradio) (1.1.10)\n",
            "Requirement already satisfied: python-dateutil>=2.8.2 in /usr/local/lib/python3.12/dist-packages (from pandas<3.0,>=1.0->gradio) (2.9.0.post0)\n",
            "Requirement already satisfied: pytz>=2020.1 in /usr/local/lib/python3.12/dist-packages (from pandas<3.0,>=1.0->gradio) (2025.2)\n",
            "Requirement already satisfied: tzdata>=2022.7 in /usr/local/lib/python3.12/dist-packages (from pandas<3.0,>=1.0->gradio) (2025.2)\n",
            "Requirement already satisfied: annotated-types>=0.6.0 in /usr/local/lib/python3.12/dist-packages (from pydantic<2.12,>=2.0->gradio) (0.7.0)\n",
            "Requirement already satisfied: pydantic-core==2.33.2 in /usr/local/lib/python3.12/dist-packages (from pydantic<2.12,>=2.0->gradio) (2.33.2)\n",
            "Requirement already satisfied: typing-inspection>=0.4.0 in /usr/local/lib/python3.12/dist-packages (from pydantic<2.12,>=2.0->gradio) (0.4.2)\n",
            "Requirement already satisfied: click>=8.0.0 in /usr/local/lib/python3.12/dist-packages (from typer<1.0,>=0.12->gradio) (8.3.0)\n",
            "Requirement already satisfied: shellingham>=1.3.0 in /usr/local/lib/python3.12/dist-packages (from typer<1.0,>=0.12->gradio) (1.5.4)\n",
            "Requirement already satisfied: rich>=10.11.0 in /usr/local/lib/python3.12/dist-packages (from typer<1.0,>=0.12->gradio) (13.9.4)\n",
            "Requirement already satisfied: six>=1.5 in /usr/local/lib/python3.12/dist-packages (from python-dateutil>=2.8.2->pandas<3.0,>=1.0->gradio) (1.17.0)\n",
            "Requirement already satisfied: markdown-it-py>=2.2.0 in /usr/local/lib/python3.12/dist-packages (from rich>=10.11.0->typer<1.0,>=0.12->gradio) (4.0.0)\n",
            "Requirement already satisfied: pygments<3.0.0,>=2.13.0 in /usr/local/lib/python3.12/dist-packages (from rich>=10.11.0->typer<1.0,>=0.12->gradio) (2.19.2)\n",
            "Requirement already satisfied: charset_normalizer<4,>=2 in /usr/local/lib/python3.12/dist-packages (from requests->huggingface-hub<2.0,>=0.33.5->gradio) (3.4.3)\n",
            "Requirement already satisfied: urllib3<3,>=1.21.1 in /usr/local/lib/python3.12/dist-packages (from requests->huggingface-hub<2.0,>=0.33.5->gradio) (2.5.0)\n",
            "Requirement already satisfied: mdurl~=0.1 in /usr/local/lib/python3.12/dist-packages (from markdown-it-py>=2.2.0->rich>=10.11.0->typer<1.0,>=0.12->gradio) (0.1.2)\n",
            "Downloading gradio-5.49.1-py3-none-any.whl (63.5 MB)\n",
            "\u001b[2K   \u001b[90m━━━━━━━━━━━━━━━━━━━━━━━━━━━━━━━━━━━━━━━━\u001b[0m \u001b[32m63.5/63.5 MB\u001b[0m \u001b[31m12.4 MB/s\u001b[0m eta \u001b[36m0:00:00\u001b[0m\n",
            "\u001b[?25hInstalling collected packages: gradio\n",
            "  Attempting uninstall: gradio\n",
            "    Found existing installation: gradio 5.49.0\n",
            "    Uninstalling gradio-5.49.0:\n",
            "      Successfully uninstalled gradio-5.49.0\n",
            "Successfully installed gradio-5.49.1\n"
          ]
        }
      ],
      "source": [
        "%pip install --upgrade gradio"
      ]
    },
    {
      "cell_type": "code",
      "execution_count": 2,
      "id": "ae6d06be",
      "metadata": {
        "id": "ae6d06be"
      },
      "outputs": [],
      "source": [
        "# Import necessary libraries\n",
        "\n",
        "# Data manipulation\n",
        "import pandas as pd\n",
        "\n",
        "# Visualization\n",
        "import plotly.express as px\n",
        "import plotly.graph_objects as go\n",
        "\n",
        "# Date and time\n",
        "from datetime import datetime\n",
        "\n",
        "# Data persistence\n",
        "import os\n",
        "\n",
        "# Web application interface\n",
        "import gradio as gr"
      ]
    },
    {
      "cell_type": "markdown",
      "id": "a4a53ef5",
      "metadata": {
        "id": "a4a53ef5"
      },
      "source": [
        "## Backend development"
      ]
    },
    {
      "cell_type": "markdown",
      "id": "10114a80",
      "metadata": {
        "id": "10114a80"
      },
      "source": [
        "### Tab 1 function: BMI"
      ]
    },
    {
      "cell_type": "markdown",
      "id": "937592f9",
      "metadata": {
        "id": "937592f9"
      },
      "source": [
        "Define a function for Body Mass Index (BMI) calculation using the following equation: $$\\text{BMI} = \\frac{\\text{weight}}{(\\text{height})^2}$$\n",
        "where weight is in kilograms and height is in meters."
      ]
    },
    {
      "cell_type": "code",
      "execution_count": 3,
      "id": "65160ed9",
      "metadata": {
        "id": "65160ed9"
      },
      "outputs": [],
      "source": [
        "# BMI calculation function\n",
        "def calculate_bmi(weight, height):\n",
        "    # Validate inputs\n",
        "    if not isinstance(height, (int, float)) or not isinstance(weight, (int, float)) or height <= 0 or weight <= 0:\n",
        "        return \"Please enter the valid value!\", None\n",
        "\n",
        "    # Convert cm to m\n",
        "    height = height / 100\n",
        "\n",
        "    bmi = weight / (height ** 2)\n",
        "    return round(bmi, 2), None\n",
        "\n",
        "# Note: For BMI calculation, the unit of weight is kg and height is m."
      ]
    },
    {
      "cell_type": "markdown",
      "id": "8b91c158",
      "metadata": {
        "id": "8b91c158"
      },
      "source": [
        "In this application, users can input data in either the metric (kg and cm) or imperial (lbs and in) system. However, since the BMI calculation uses the metric system, a unit conversion function needs to be defined."
      ]
    },
    {
      "cell_type": "code",
      "execution_count": 4,
      "id": "3733b0e5",
      "metadata": {
        "id": "3733b0e5"
      },
      "outputs": [],
      "source": [
        "def convert_to_Metric(weight, height):\n",
        "    # Convert lbs and in to kg and cm\n",
        "    return weight * 0.45, height * 2.54"
      ]
    },
    {
      "cell_type": "markdown",
      "id": "509294b5",
      "metadata": {
        "id": "509294b5"
      },
      "source": [
        "For the category, this project uses standard BMI classification system from Bidani et al.(2020). There are five classes as follows:"
      ]
    },
    {
      "cell_type": "markdown",
      "id": "b24d81d2",
      "metadata": {
        "id": "b24d81d2"
      },
      "source": [
        "| **BMI**     | **Class**                      |\n",
        "|--------------|-------------------------------|\n",
        "| < 18.5       | Underweight                   |\n",
        "| 18.5–24.9    | Normal                        |\n",
        "| 25.0–29.9    | Overweight                    |\n",
        "| 30.0–34.9    | Obesity (1st Class)           |\n",
        "| 35.0–39.9    | Obesity (2nd Class)           |\n",
        "| > 40         | Extreme Obesity (3rd Class)   |\n"
      ]
    },
    {
      "cell_type": "code",
      "execution_count": 5,
      "id": "691c4603",
      "metadata": {
        "id": "691c4603"
      },
      "outputs": [],
      "source": [
        "# BMI Category function (Bidani et al., 2020)\n",
        "def find_bmi_category(bmi):\n",
        "    bmi_category = \"\"\n",
        "    if bmi < 18.5:\n",
        "        bmi_category = \"Underweight\"\n",
        "    elif bmi < 24.9:\n",
        "        bmi_category = \"Normal\"\n",
        "    elif bmi < 29.9:\n",
        "        bmi_category = \"Overweight\"\n",
        "    elif bmi < 34.9:\n",
        "        bmi_category = \"Obesity (1st class)\"\n",
        "    elif bmi < 39.9:\n",
        "        bmi_category = \"Obesity (2nd class)\"\n",
        "    elif bmi >= 40:\n",
        "        bmi_category = \"Extreme Obesity (3rd class)\"\n",
        "    else:\n",
        "        return \"There are some condition error!\"\n",
        "    return bmi_category"
      ]
    },
    {
      "cell_type": "markdown",
      "id": "b471d32a",
      "metadata": {
        "id": "b471d32a"
      },
      "source": [
        "The BMI data need to be visualized over time, so the calculated BMI history will be saved in a `.csv` file and retrieved using a DataFrame."
      ]
    },
    {
      "cell_type": "code",
      "execution_count": 6,
      "id": "c5f81581",
      "metadata": {
        "id": "c5f81581"
      },
      "outputs": [],
      "source": [
        "# Function for BMI History\n",
        "\n",
        "import os\n",
        "import pandas as pd\n",
        "from datetime import datetime\n",
        "\n",
        "bmi_data_file = \"bmi_data.csv\"\n",
        "\n",
        "# BMI data loading or initialization function\n",
        "def load_bmi_data():\n",
        "    if os.path.exists(bmi_data_file):\n",
        "        df = pd.read_csv(bmi_data_file)\n",
        "        # Ensure 'Date' column is datetime type for proper plotting\n",
        "        df['Date'] = pd.to_datetime(df['Date'])\n",
        "        return df\n",
        "    else:\n",
        "        return pd.DataFrame(columns=[\"Date\", \"BMI\"])\n",
        "\n",
        "# BMI data saving function\n",
        "def save_bmi_data(date, bmi):\n",
        "    df = load_bmi_data()\n",
        "    new_entry = pd.DataFrame([{\"Date\": pd.to_datetime(date).date(), \"BMI\": bmi}])\n",
        "    new_entry['Date'] = pd.to_datetime(new_entry['Date'])\n",
        "\n",
        "    # Remove any duplicate entry for the same date\n",
        "    df = df[df['Date'] != new_entry['Date'].iloc[0]]\n",
        "\n",
        "    df = pd.concat([df, new_entry], ignore_index=True)\n",
        "    df = df.sort_values(by=\"Date\")\n",
        "    df.to_csv(bmi_data_file, index=False)\n",
        "    return df"
      ]
    },
    {
      "cell_type": "code",
      "source": [
        "# BMI logging Test\n",
        "\n",
        "# Setup existing log\n",
        "# df_existing_bmi_test = pd.DataFrame({\n",
        "#     \"Date\": [\"2025-03-01\", \"2025-03-02\", \"2025-03-03\"],\n",
        "#     \"BMI\": [20.5, 22.3, 25.1]\n",
        "# })\n",
        "# df_existing_bmi_test.to_csv(bmi_data_file, index=False)\n",
        "df_bmi = load_bmi_data()\n",
        "\n",
        "# Check the saving function\n",
        "date = \"March 7, 2025\"\n",
        "bmi_new_test = 23.4\n",
        "\n",
        "df_bmi = save_bmi_data(date, bmi_new_test)\n",
        "\n",
        "print(df_bmi)"
      ],
      "metadata": {
        "id": "qHKgDkdhj-KL",
        "colab": {
          "base_uri": "https://localhost:8080/"
        },
        "outputId": "0cd503d1-5b55-420f-bd55-5caeeb9a4aa1"
      },
      "id": "qHKgDkdhj-KL",
      "execution_count": 7,
      "outputs": [
        {
          "output_type": "stream",
          "name": "stdout",
          "text": [
            "        Date   BMI\n",
            "0 2025-03-07  23.4\n"
          ]
        },
        {
          "output_type": "stream",
          "name": "stderr",
          "text": [
            "/tmp/ipython-input-3950471438.py:28: FutureWarning: The behavior of DataFrame concatenation with empty or all-NA entries is deprecated. In a future version, this will no longer exclude empty or all-NA columns when determining the result dtypes. To retain the old behavior, exclude the relevant entries before the concat operation.\n",
            "  df = pd.concat([df, new_entry], ignore_index=True)\n"
          ]
        }
      ]
    },
    {
      "cell_type": "code",
      "source": [],
      "metadata": {
        "id": "swHZKSLR2v20"
      },
      "id": "swHZKSLR2v20",
      "execution_count": 7,
      "outputs": []
    },
    {
      "cell_type": "markdown",
      "id": "fac0b90f",
      "metadata": {
        "id": "fac0b90f"
      },
      "source": [
        "For visualization function and any input data, it will be defined later in the Web application interface session."
      ]
    },
    {
      "cell_type": "markdown",
      "id": "6276e6f8",
      "metadata": {
        "id": "6276e6f8"
      },
      "source": [
        "### Tab 2 function: Daily Metabolic Rate Calculator"
      ]
    },
    {
      "cell_type": "markdown",
      "id": "dcbf7071",
      "metadata": {
        "id": "dcbf7071"
      },
      "source": [
        "For this tab, the necessary data for Basal Metabolic Rate (BMR) calculation—age, gender, height, weight, and activity level (dropdown)—will be collected from users to calculate the Total Daily Energy Expenditure (TDEE)."
      ]
    },
    {
      "cell_type": "markdown",
      "source": [],
      "metadata": {
        "id": "EZ0iDYo1xFXe"
      },
      "id": "EZ0iDYo1xFXe"
    },
    {
      "cell_type": "markdown",
      "id": "951dfe30",
      "metadata": {
        "id": "951dfe30"
      },
      "source": [
        "Among the numerous methods to determine Basal Metabolic Rate (BMR), the **Harris–Benedict equation** is one of the most widely used by healthcare centers and hospitals. Although it is not the most accurate method available today, it remains a practical and accessible approach.  \n",
        "\n",
        "This project adopts the equation from the research *A Biometric Study of Human Basal Metabolism* (Harris et al., 1918), as shown below.\n",
        "\n",
        "**For males:**\n",
        "\n",
        "$$\\text{BMR (kcal)} = 66.4730 + 13.7516 \\times \\text{Weight (kg)} + 5.0033 \\times \\text{Height (cm)} - 6.7750 \\times \\text{Age (years)}$$\n",
        "\n",
        "**For females:**\n",
        "\n",
        "$$\\text{BMR (kcal)} = 665.0955 + 9.5634 \\times \\text{Weight (kg)} + 1.8496 \\times \\text{Height (cm)} - 4.6756 \\times \\text{Age (years)}$$"
      ]
    },
    {
      "cell_type": "code",
      "execution_count": 8,
      "id": "ccae6347",
      "metadata": {
        "id": "ccae6347"
      },
      "outputs": [],
      "source": [
        "# BMR Calculation function\n",
        "\n",
        "def calculate_bmr(age, gender, height, weight):\n",
        "    # Data Validation\n",
        "    if age is None or gender is None or height is None or weight is None or not isinstance(age, (int)) or not isinstance(height, (int, float)) or not isinstance(weight, (int, float)) or age <= 0 or height <= 0 or weight <= 0:\n",
        "        return \"Please fill in all the required fields with the valid value!\", \"\"\n",
        "    elif gender == \"Male\":\n",
        "        bmr = 66.4730 + 13.7516*weight + 5.0033*height - 6.7750*age\n",
        "    else:\n",
        "        bmr = 665.0955 + 9.5634*weight + 1.8496*height - 4.6756*age\n",
        "\n",
        "    return round(bmr, 2)\n"
      ]
    },
    {
      "cell_type": "markdown",
      "source": [],
      "metadata": {
        "id": "8Rkspe-BxuZy"
      },
      "id": "8Rkspe-BxuZy"
    },
    {
      "cell_type": "markdown",
      "source": [],
      "metadata": {
        "id": "VFphd6Wzxw7B"
      },
      "id": "VFphd6Wzxw7B"
    },
    {
      "cell_type": "markdown",
      "source": [
        "The Total Daily Energy Expenditure (TDEE) varies depending on the level of physical activity performed throughout the day. When activity levels are high, TDEE increases; conversely, when activity levels are low, TDEE decreases. The basic equation for calculating TDEE is shown below:\n",
        "\n",
        "$$\n",
        "TDEE = BMR \\times PAL\n",
        "$$\n",
        "\n",
        "where $PAL$ represents the *Physical Activity Level*, which serves as a multiplier reflecting overall daily activity.\n",
        "\n",
        "The PAL values are determined based on Physical Activity as follows:\n",
        "1) 1.2 for Sedentary\n",
        "2) 1.5 for Lightly Active\n",
        "3) 1.7 Moderately Active\n",
        "4) 1.9 for Very Active\n",
        "5) 2.2 for Extremely Active\n",
        "\n",
        "Due to the existence of several calculation methods, this project adopts the calculation approach and PAL factor multipliers from [strengthlab360.com](https://strengthlab360.com/)."
      ],
      "metadata": {
        "id": "ilvo-HvTvXjO"
      },
      "id": "ilvo-HvTvXjO"
    },
    {
      "cell_type": "code",
      "source": [
        "    # Physical Activity Levels dictionary\n",
        "\n",
        "    activity_levels_dict = {\n",
        "        \"Sedentary (little to no exercise)\": 1.2,\n",
        "        \"Lightly Active (1-3 exercise sessions/week)\": 1.375,\n",
        "        \"Moderately Active (3-5 exercise sessions/week)\": 1.55,\n",
        "        \"Very Active (5-6 exercise sessions/week)\": 1.725,\n",
        "        \"Extremely Active (more than 6 exercise sessions/week)\": 1.9\n",
        "    }"
      ],
      "metadata": {
        "id": "PJnPoWuOYvCE"
      },
      "id": "PJnPoWuOYvCE",
      "execution_count": 9,
      "outputs": []
    },
    {
      "cell_type": "code",
      "source": [
        "# TDEE calculation function\n",
        "\n",
        "def calculate_tdee(bmr, activity_level):\n",
        "    pal = activity_levels_dict[activity_level]\n",
        "    tdee = bmr * pal\n",
        "\n",
        "    return round(tdee, 2)\n"
      ],
      "metadata": {
        "id": "YIUsIW2Zx9Lb"
      },
      "id": "YIUsIW2Zx9Lb",
      "execution_count": 10,
      "outputs": []
    },
    {
      "cell_type": "markdown",
      "source": [
        "To achieve the desired weight goal, the daily caloric intake should follow these guidelines:\n",
        "\n",
        "1. **Weight Loss:** $TDEE − 450$  \n",
        "2. **Maintenance:** $TDEE$  \n",
        "3. **Weight Gain:** $TDEE + 450$\n",
        "\n",
        "According to several health recommendations, the appropriate calorie deficit or surplus for healthy weight loss or gain should be within the range of 200–500 calories per day. In this project, 450 calories are being used.\n"
      ],
      "metadata": {
        "id": "JO5itz4Oy43F"
      },
      "id": "JO5itz4Oy43F"
    },
    {
      "cell_type": "code",
      "source": [
        "# Users' Goal\n",
        "\n",
        "goal_list = [\"Weight Loss\", \"Maintenance\", \"Weight Gain\"]"
      ],
      "metadata": {
        "id": "3fuAitUfY_f6"
      },
      "id": "3fuAitUfY_f6",
      "execution_count": 11,
      "outputs": []
    },
    {
      "cell_type": "code",
      "source": [
        "def find_daily_calories(goal, tdee):\n",
        "\n",
        "    calorie_goal = tdee\n",
        "    if goal == \"Weight Loss\":\n",
        "        calorie_goal -= 450\n",
        "    elif goal == \"Weight Gain\":\n",
        "        calorie_goal += 450\n",
        "\n",
        "    return round(calorie_goal, 2)"
      ],
      "metadata": {
        "id": "BUnBrwnPz0GY"
      },
      "id": "BUnBrwnPz0GY",
      "execution_count": 12,
      "outputs": []
    },
    {
      "cell_type": "markdown",
      "id": "98a9a94b",
      "metadata": {
        "id": "98a9a94b"
      },
      "source": [
        "## Web application interface"
      ]
    },
    {
      "cell_type": "markdown",
      "id": "3adf96c6",
      "metadata": {
        "id": "3adf96c6"
      },
      "source": [
        "Try to initialize the main application interface using Gradio with a `gr.themes.Soft()` built-in theme."
      ]
    },
    {
      "cell_type": "code",
      "execution_count": 13,
      "id": "b47c929b",
      "metadata": {
        "id": "b47c929b",
        "colab": {
          "base_uri": "https://localhost:8080/",
          "height": 643
        },
        "outputId": "ed4e105c-383c-449f-e20f-0825a64c06b7"
      },
      "outputs": [
        {
          "output_type": "stream",
          "name": "stdout",
          "text": [
            "It looks like you are running Gradio on a hosted Jupyter notebook, which requires `share=True`. Automatically setting `share=True` (you can turn this off by setting `share=False` in `launch()` explicitly).\n",
            "\n",
            "Colab notebook detected. To show errors in colab notebook, set debug=True in launch()\n",
            "* Running on public URL: https://a269dd5229adc0911a.gradio.live\n",
            "\n",
            "This share link expires in 1 week. For free permanent hosting and GPU upgrades, run `gradio deploy` from the terminal in the working directory to deploy to Hugging Face Spaces (https://huggingface.co/spaces)\n"
          ]
        },
        {
          "output_type": "display_data",
          "data": {
            "text/plain": [
              "<IPython.core.display.HTML object>"
            ],
            "text/html": [
              "<div><iframe src=\"https://a269dd5229adc0911a.gradio.live\" width=\"100%\" height=\"500\" allow=\"autoplay; camera; microphone; clipboard-read; clipboard-write;\" frameborder=\"0\" allowfullscreen></iframe></div>"
            ]
          },
          "metadata": {}
        },
        {
          "output_type": "execute_result",
          "data": {
            "text/plain": []
          },
          "metadata": {},
          "execution_count": 13
        }
      ],
      "source": [
        "# UI for Main application\n",
        "\n",
        "with gr.Blocks(title = \"BME Health Calculator Suite\", theme = gr.themes.Soft()) as app:\n",
        "    gr.Markdown(\n",
        "        \"\"\"\n",
        "        # 🩺 BME Health Calculator Suite\n",
        "        A comprehensive health tracking application for Biomedical Engineering students.\n",
        "        \"\"\"\n",
        "    )\n",
        "\n",
        "app.launch()"
      ]
    },
    {
      "cell_type": "markdown",
      "id": "d4b92461",
      "metadata": {
        "id": "d4b92461"
      },
      "source": [
        "The application includes three tabs:\n",
        "- Tab 1: BMI\n",
        "- Tab 2: Metabolic Rate\n",
        "- Tab 3: Food Tracking\n",
        "\n",
        "Each tab will be defined separately as a function, using a `gr.Blocks`, and then combined into the main interface above."
      ]
    },
    {
      "cell_type": "markdown",
      "id": "ce9e0046",
      "metadata": {
        "id": "ce9e0046"
      },
      "source": [
        "### Tab 1 UI: BMI"
      ]
    },
    {
      "cell_type": "code",
      "source": [
        "# BMI data clearing function\n",
        "def clear_bmi_data():\n",
        "    \"\"\"Clears the CSV file and returns empty values to update the UI.\"\"\"\n",
        "    empty_df = pd.DataFrame(columns=[\"Date\", \"BMI\"])\n",
        "    empty_df.to_csv(bmi_data_file, index=False)\n",
        "    # Return empty values for all outputs to clear them\n",
        "    return \"\", \"\", \"\", None"
      ],
      "metadata": {
        "id": "W2tX-yEjfu5a"
      },
      "id": "W2tX-yEjfu5a",
      "execution_count": 14,
      "outputs": []
    },
    {
      "cell_type": "code",
      "execution_count": 15,
      "id": "bbf3baa1",
      "metadata": {
        "id": "bbf3baa1",
        "colab": {
          "base_uri": "https://localhost:8080/",
          "height": 643
        },
        "outputId": "7ae2024c-d463-487e-b520-7a869b7be5cd"
      },
      "outputs": [
        {
          "output_type": "stream",
          "name": "stdout",
          "text": [
            "It looks like you are running Gradio on a hosted Jupyter notebook, which requires `share=True`. Automatically setting `share=True` (you can turn this off by setting `share=False` in `launch()` explicitly).\n",
            "\n",
            "Colab notebook detected. To show errors in colab notebook, set debug=True in launch()\n",
            "* Running on public URL: https://882513279569d383a7.gradio.live\n",
            "\n",
            "This share link expires in 1 week. For free permanent hosting and GPU upgrades, run `gradio deploy` from the terminal in the working directory to deploy to Hugging Face Spaces (https://huggingface.co/spaces)\n"
          ]
        },
        {
          "output_type": "display_data",
          "data": {
            "text/plain": [
              "<IPython.core.display.HTML object>"
            ],
            "text/html": [
              "<div><iframe src=\"https://882513279569d383a7.gradio.live\" width=\"100%\" height=\"500\" allow=\"autoplay; camera; microphone; clipboard-read; clipboard-write;\" frameborder=\"0\" allowfullscreen></iframe></div>"
            ]
          },
          "metadata": {}
        },
        {
          "output_type": "execute_result",
          "data": {
            "text/plain": []
          },
          "metadata": {},
          "execution_count": 15
        }
      ],
      "source": [
        "# UI for Tab 1: BMI\n",
        "\n",
        "def tab1_fn(unit, weight, height, date):\n",
        "    if unit == \"Imperial (lbs and in)\":\n",
        "        weight, height = convert_to_Metric(weight, height)\n",
        "    elif unit != \"Metric (kg and cm)\":\n",
        "        return \"Invalid unit!\", \"\", \"\", None\n",
        "\n",
        "    bmi, _ = calculate_bmi(weight, height)\n",
        "    if isinstance(bmi, str):\n",
        "        return bmi, \"\", \"\", None\n",
        "\n",
        "    category = find_bmi_category(bmi)\n",
        "    recommendation = {\n",
        "        \"Underweight\": \"Increase your calorie intake with balanced nutrition.\",\n",
        "        \"Normal\": \"Maintain a healthy lifestyle with regular exercise.\",\n",
        "        \"Overweight\": \"Consider a calorie-controlled diet and regular activity.\",\n",
        "        \"Obesity (1st class)\": \"Consult a healthcare provider for weight management.\",\n",
        "        \"Obesity (2nd class)\": \"Professional medical advice is recommended.\",\n",
        "        \"Extreme Obesity (3rd class)\": \"Seek immediate professional consultation.\"\n",
        "    }.get(category, \"\")\n",
        "    df = load_bmi_data()\n",
        "    df = save_bmi_data(date, bmi)\n",
        "    # plot = df.plot(x=\"Date\", y=\"BMI\", kind=\"line\", marker=\"o\", title=\"BMI History\", ylabel=\"BMI\", xlabel=\"Date\", grid=True).get_figure()\n",
        "    fig = px.line(\n",
        "        df,\n",
        "        x=\"Date\",\n",
        "        y=\"BMI\",\n",
        "        title=\"BMI History\",\n",
        "        markers=True,  # Creates markers on the data points\n",
        "        labels={'Date': 'Date', 'BMI': 'BMI'} # Sets axis labels\n",
        "    )\n",
        "\n",
        "    fig.update_layout(\n",
        "        xaxis_showgrid=True, # Enables grid for x-axis\n",
        "        yaxis_showgrid=True  # Enables grid for y-axis\n",
        "    )\n",
        "\n",
        "    plot = fig\n",
        "\n",
        "    return round(bmi, 2), category, recommendation, plot\n",
        "\n",
        "\n",
        "with gr.Blocks(title=\"BMI\", theme=gr.themes.Soft()) as tab1_bmi:\n",
        "    gr.Markdown(\"## BMI Calculator\")\n",
        "    gr.Markdown(\"Calculate your Body Mass Index (BMI) and track your progress over time.\")\n",
        "\n",
        "    # Helper: clear BMI History\n",
        "    # BMI data clearing function\n",
        "    def clear_bmi_data():\n",
        "        empty_df = pd.DataFrame(columns=[\"Date\", \"BMI\"])\n",
        "        empty_df.to_csv(bmi_data_file, index=False)\n",
        "        # Return empty values for all outputs to clear them\n",
        "        return \"\", \"\", \"\", None\n",
        "\n",
        "    # Helper: update unit labels\n",
        "    def update_unit_bmi(unit):\n",
        "        if unit == \"Metric (kg and cm)\":\n",
        "            return gr.update(label=\"Height (cm)\"), gr.update(label=\"Weight (kg)\")\n",
        "        else:\n",
        "            return gr.update(label=\"Height (in)\"), gr.update(label=\"Weight (lbs)\")\n",
        "\n",
        "    with gr.Row():\n",
        "        # Input Column\n",
        "        with gr.Column(scale=1):\n",
        "            gr.Markdown(\"### Inputs\")\n",
        "            unit = gr.Radio([\"Metric (kg and cm)\", \"Imperial (lbs and in)\"], label=\"Unit System\", value=\"Metric (kg and cm)\", interactive=True)\n",
        "            height = gr.Number(label=\"Height (cm)\", minimum=0)\n",
        "            weight = gr.Number(label=\"Weight (kg)\", minimum=0)\n",
        "            date = gr.DateTime(label=\"Date\", value=datetime.now())\n",
        "            clear_btn = gr.Button(\"Clear History\")\n",
        "            calculate_btn = gr.Button(\"Calculate BMI\", variant=\"primary\")\n",
        "\n",
        "        # Output Column\n",
        "        with gr.Column(scale=2):\n",
        "            gr.Markdown(\"### Results\")\n",
        "            bmi_output = gr.Textbox(label=\"Your BMI\", interactive=False)\n",
        "            category_output = gr.Textbox(label=\"BMI Category\", interactive=False)\n",
        "            recommendation_output = gr.Textbox(label=\"Recommendation\", interactive=False, lines=3)\n",
        "            plot_output = gr.Plot(label=\"BMI History\")\n",
        "\n",
        "    # Event Listeners\n",
        "    unit.change(fn=update_unit_bmi, inputs=unit, outputs=[height, weight])\n",
        "    calculate_btn.click(\n",
        "        fn=tab1_fn,\n",
        "        inputs=[unit, weight, height, date],\n",
        "        outputs=[bmi_output, category_output, recommendation_output, plot_output]\n",
        "    )\n",
        "\n",
        "    clear_btn.click(\n",
        "        fn=clear_bmi_data,\n",
        "        inputs=None,\n",
        "        outputs=[bmi_output, category_output, recommendation_output, plot_output]\n",
        "    )\n",
        "\n",
        "tab1_bmi.launch()"
      ]
    },
    {
      "cell_type": "markdown",
      "id": "0a095958",
      "metadata": {
        "id": "0a095958"
      },
      "source": [
        "### Tab 2 UI: Metabolic Rate"
      ]
    },
    {
      "cell_type": "code",
      "source": [
        "# UI for Tab 2: Metabolic Rate\n",
        "\n",
        "def tab2_fn(unit, age, gender, height, weight, activity_level, goal):\n",
        "    if unit == \"Imperial (lbs and in)\":\n",
        "        weight, height = convert_to_Metric(weight, height)\n",
        "    elif unit != \"Metric (kg and cm)\":\n",
        "        return \"Invalid unit!\", \"\", \"\", None\n",
        "\n",
        "    bmr = calculate_bmr(age, gender, height, weight)\n",
        "    tdee = calculate_tdee(bmr, activity_level)\n",
        "    goal = find_daily_calories(goal, tdee)\n",
        "\n",
        "    return round(bmr, 2), round(tdee, 2), round(goal, 2)\n",
        "\n",
        "with gr.Blocks(title=\"BMR and TDEE\", theme=gr.themes.Soft()) as tab2:\n",
        "    gr.Markdown(\"## Metabolic Rate Calculator\")\n",
        "    gr.Markdown(\"Calculate your Basal Metabolic Rate (BMR), Total Daily Energy Expenditure (TDEE), and the appropriate daily calorie intake.\")\n",
        "\n",
        "    # Helper: update unit labels\n",
        "    def update_unit_bmi(unit):\n",
        "        if unit == \"Metric (kg and cm)\":\n",
        "            return gr.update(label=\"Height (cm)\"), gr.update(label=\"Weight (kg)\")\n",
        "        else:\n",
        "            return gr.update(label=\"Height (in)\"), gr.update(label=\"Weight (lbs)\")\n",
        "\n",
        "    with gr.Row():\n",
        "        # Input Column\n",
        "        with gr.Column(scale=1):\n",
        "            gr.Markdown(\"### Inputs\")\n",
        "            unit = gr.Radio([\"Metric (kg and cm)\", \"Imperial (lbs and in)\"], label=\"Unit System\", value=\"Metric (kg and cm)\", interactive=True)\n",
        "            age = gr.Number(label = \"Age (years)\", minimum = 0)\n",
        "            gender = gr.Radio([\"Male\", \"Female\"], label=\"Gender\")\n",
        "            height = gr.Number(label=\"Height (cm)\", minimum=0)\n",
        "            weight = gr.Number(label=\"Weight (kg)\", minimum=0)\n",
        "            activity_level = gr.Dropdown(list(activity_levels_dict.keys()), label=\"Activity Level\")\n",
        "            goal = gr.Dropdown(goal_list, label=\"Determine your Goal\")\n",
        "            calculate_btn = gr.Button(\"Calculate calories\", variant=\"primary\")\n",
        "\n",
        "        # Output Column\n",
        "        with gr.Column(scale=2):\n",
        "            gr.Markdown(\"### Results\")\n",
        "            bmr_output = gr.Textbox(label=\"Basal Metabolic Rate (BMR)\", interactive=False)\n",
        "            tdee_output = gr.Textbox(label=\"Total Daily Energy Expenditure (TDEE)\", interactive=False)\n",
        "            calorie_goal_output = gr.Textbox(label=\"Calories Goal\", interactive=False)\n",
        "\n",
        "    # Event Listeners\n",
        "    unit.change(fn=update_unit_bmi, inputs=unit, outputs=[height, weight])\n",
        "\n",
        "    calculate_btn.click(\n",
        "        fn=tab2_fn,\n",
        "        inputs=[unit, age, gender, height, weight, activity_level, goal],\n",
        "        outputs=[bmr_output, tdee_output, calorie_goal_output]\n",
        "    )\n",
        "\n",
        "tab2.launch()"
      ],
      "metadata": {
        "id": "jiQ_D91bUjZC",
        "colab": {
          "base_uri": "https://localhost:8080/",
          "height": 643
        },
        "outputId": "45c655ea-8a2e-42e7-d848-70a4df42e6fe"
      },
      "id": "jiQ_D91bUjZC",
      "execution_count": 16,
      "outputs": [
        {
          "output_type": "stream",
          "name": "stdout",
          "text": [
            "It looks like you are running Gradio on a hosted Jupyter notebook, which requires `share=True`. Automatically setting `share=True` (you can turn this off by setting `share=False` in `launch()` explicitly).\n",
            "\n",
            "Colab notebook detected. To show errors in colab notebook, set debug=True in launch()\n",
            "* Running on public URL: https://b1cca6ae362a2452bd.gradio.live\n",
            "\n",
            "This share link expires in 1 week. For free permanent hosting and GPU upgrades, run `gradio deploy` from the terminal in the working directory to deploy to Hugging Face Spaces (https://huggingface.co/spaces)\n"
          ]
        },
        {
          "output_type": "display_data",
          "data": {
            "text/plain": [
              "<IPython.core.display.HTML object>"
            ],
            "text/html": [
              "<div><iframe src=\"https://b1cca6ae362a2452bd.gradio.live\" width=\"100%\" height=\"500\" allow=\"autoplay; camera; microphone; clipboard-read; clipboard-write;\" frameborder=\"0\" allowfullscreen></iframe></div>"
            ]
          },
          "metadata": {}
        },
        {
          "output_type": "execute_result",
          "data": {
            "text/plain": []
          },
          "metadata": {},
          "execution_count": 16
        }
      ]
    },
    {
      "cell_type": "markdown",
      "id": "b32a5a88",
      "metadata": {
        "id": "b32a5a88"
      },
      "source": [
        "### Tab 3 UI: Food Tracker"
      ]
    },
    {
      "cell_type": "code",
      "execution_count": 18,
      "id": "8244c489",
      "metadata": {
        "id": "8244c489",
        "colab": {
          "base_uri": "https://localhost:8080/",
          "height": 643
        },
        "outputId": "98081ed5-e131-4a36-a88d-964f35ffe30c"
      },
      "outputs": [
        {
          "output_type": "stream",
          "name": "stdout",
          "text": [
            "It looks like you are running Gradio on a hosted Jupyter notebook, which requires `share=True`. Automatically setting `share=True` (you can turn this off by setting `share=False` in `launch()` explicitly).\n",
            "\n",
            "Colab notebook detected. To show errors in colab notebook, set debug=True in launch()\n",
            "* Running on public URL: https://36a44ae88b7b708a9a.gradio.live\n",
            "\n",
            "This share link expires in 1 week. For free permanent hosting and GPU upgrades, run `gradio deploy` from the terminal in the working directory to deploy to Hugging Face Spaces (https://huggingface.co/spaces)\n"
          ]
        },
        {
          "output_type": "display_data",
          "data": {
            "text/plain": [
              "<IPython.core.display.HTML object>"
            ],
            "text/html": [
              "<div><iframe src=\"https://36a44ae88b7b708a9a.gradio.live\" width=\"100%\" height=\"500\" allow=\"autoplay; camera; microphone; clipboard-read; clipboard-write;\" frameborder=\"0\" allowfullscreen></iframe></div>"
            ]
          },
          "metadata": {}
        },
        {
          "output_type": "execute_result",
          "data": {
            "text/plain": []
          },
          "metadata": {},
          "execution_count": 18
        }
      ],
      "source": [
        "# --- Constants and File Handling for Tab 3 ---\n",
        "FOOD_DATA_FILE = \"food_log.csv\"\n",
        "\n",
        "# Pre-set calorie values for common food items\n",
        "COMMON_FOODS = {\n",
        "    \"Apple\": 95,\n",
        "    \"Banana\": 105,\n",
        "    \"Chicken Breast (100g)\": 165,\n",
        "    \"Brown Rice (1 cup)\": 215,\n",
        "    \"Salad with Vinaigrette\": 150,\n",
        "    \"Slice of Pizza\": 285,\n",
        "    \"Egg\": 78\n",
        "}\n",
        "\n",
        "# --- Load existing food log ---\n",
        "def load_food_log():\n",
        "    if os.path.exists(FOOD_DATA_FILE):\n",
        "        df = pd.read_csv(FOOD_DATA_FILE)\n",
        "        df['Date'] = pd.to_datetime(df['Date'])\n",
        "        return df\n",
        "    else:\n",
        "        return pd.DataFrame(columns=[\"Date\", \"Food Item\", \"Calories\"])\n",
        "\n",
        "# --- Process Food Log ---\n",
        "def process_food_log(selected_date,\n",
        "                     entry_type,\n",
        "                     common_food,\n",
        "                     manual_food,\n",
        "                     manual_cals,\n",
        "                     tdee_goal,\n",
        "                     log_button_trigger):\n",
        "    food_df = load_food_log()\n",
        "\n",
        "    # 1) Add new entry\n",
        "    if log_button_trigger:\n",
        "        calories = 0\n",
        "        food_item = \"\"\n",
        "\n",
        "        if not selected_date:\n",
        "            selected_date = datetime.now().strftime(\"%Y-%m-%d %H:%M:%S\")\n",
        "\n",
        "        if entry_type == \"Common Food\" and common_food:\n",
        "            food_item = common_food\n",
        "            calories = COMMON_FOODS.get(common_food, 0)\n",
        "        elif entry_type == \"Manual Entry\" and manual_food and manual_cals is not None and manual_cals >= 0:\n",
        "            food_item = manual_food\n",
        "            calories = manual_cals\n",
        "\n",
        "        if food_item and calories > 0:\n",
        "            new_entry = pd.DataFrame([{\n",
        "                'Date': pd.to_datetime(selected_date),\n",
        "                'Food Item': food_item,\n",
        "                'Calories': calories\n",
        "            }])\n",
        "            food_df = pd.concat([food_df, new_entry], ignore_index=True)\n",
        "            food_df.to_csv(FOOD_DATA_FILE, index=False)\n",
        "\n",
        "    # 2) Daily Summary\n",
        "    daily_log = pd.DataFrame(columns=[\"Date\", \"Food Item\", \"Calories\"])\n",
        "    daily_total_calories = 0\n",
        "\n",
        "    if selected_date:\n",
        "        selected_date_dt = pd.to_datetime(selected_date).date()\n",
        "        if not food_df.empty:\n",
        "            food_df['Date'] = pd.to_datetime(food_df['Date'])\n",
        "            daily_log = food_df[food_df['Date'].dt.date == selected_date_dt].copy()\n",
        "            daily_log['Date'] = daily_log['Date'].dt.strftime(\"%Y-%m-%d %H:%M:%S\")\n",
        "            daily_total_calories = daily_log['Calories'].sum()\n",
        "\n",
        "    total_calories_text = f\"{daily_total_calories:.0f} kcal\"\n",
        "\n",
        "    # 3) Weekly Progress Chart\n",
        "    plot_fig = go.Figure()\n",
        "    plot_fig.update_layout(\n",
        "        title=\"No data available for this week\",\n",
        "        xaxis_title=\"Day of the Week\",\n",
        "        yaxis_title=\"Total Calories (kcal)\",\n",
        "        template=\"plotly_white\"\n",
        "    )\n",
        "\n",
        "    if selected_date:\n",
        "        selected_ts = pd.to_datetime(selected_date)\n",
        "        start_of_week = selected_ts - pd.to_timedelta(selected_ts.dayofweek, unit='d')\n",
        "        end_of_week = start_of_week + pd.to_timedelta(6, unit='d')\n",
        "\n",
        "        if not food_df.empty:\n",
        "            weekly_log = food_df[(food_df['Date'] >= start_of_week) & (food_df['Date'] <= end_of_week)].copy()\n",
        "        else:\n",
        "            weekly_log = pd.DataFrame(columns=food_df.columns)\n",
        "\n",
        "        if not weekly_log.empty:\n",
        "            weekly_log['DateOnly'] = weekly_log['Date'].dt.date\n",
        "            weekly_summary = weekly_log.groupby('DateOnly')['Calories'].sum().reset_index()\n",
        "            weekly_summary['DayName'] = pd.to_datetime(weekly_summary['DateOnly']).dt.day_name()\n",
        "\n",
        "            plot_fig = px.bar(\n",
        "                weekly_summary,\n",
        "                x='DayName',\n",
        "                y='Calories',\n",
        "                title=f\"Weekly Calorie Intake (Week of {start_of_week.strftime('%Y-%m-%d')})\",\n",
        "                labels={'DayName': 'Day of the Week', 'Calories': 'Total Calories (kcal)'}\n",
        "            )\n",
        "\n",
        "            if tdee_goal is not None and tdee_goal > 0:\n",
        "                plot_fig.add_hline(\n",
        "                    y=tdee_goal,\n",
        "                    line_dash=\"dash\",\n",
        "                    annotation_text=\"TDEE Goal\",\n",
        "                    annotation_position=\"bottom right\",\n",
        "                    line_color=\"red\"\n",
        "                )\n",
        "\n",
        "            plot_fig.update_layout(\n",
        "                xaxis={'categoryorder': 'array',\n",
        "                       'categoryarray': ['Monday', 'Tuesday', 'Wednesday', 'Thursday', 'Friday', 'Saturday', 'Sunday']}\n",
        "            )\n",
        "\n",
        "    # 4) Reset manual fields\n",
        "    if log_button_trigger:\n",
        "        reset_manual_food = gr.update(value=\"\")\n",
        "        reset_manual_cal = gr.update(value=None)\n",
        "    else:\n",
        "        reset_manual_food = gr.update()\n",
        "        reset_manual_cal = gr.update()\n",
        "\n",
        "    return daily_log, total_calories_text, plot_fig, reset_manual_food, reset_manual_cal\n",
        "\n",
        "\n",
        "# --- UI for Food Tracker ---\n",
        "with gr.Blocks(theme=gr.themes.Soft()) as tab3_food_tracker:\n",
        "    gr.Markdown(\"## Food Tracker\")\n",
        "    gr.Markdown(\"Log your daily food intake and track your calorie consumption.\")\n",
        "\n",
        "    with gr.Row():\n",
        "        # --- Input Column ---\n",
        "        with gr.Column(scale=1):\n",
        "            gr.Markdown(\"### Log Your Meal\")\n",
        "            date_input = gr.DateTime(label=\"Select Date\", value=datetime.now().strftime(\"%Y-%m-%d %H:%M:%S\"))\n",
        "            tdee_input = gr.Number(label=\"Your TDEE Goal (from Tab 2)\", minimum=0, value=0)\n",
        "            entry_type_radio = gr.Radio([\"Common Food\", \"Manual Entry\"], label=\"Entry Type\", value=\"Common Food\")\n",
        "\n",
        "            with gr.Group() as common_food_group:\n",
        "                common_food_dropdown = gr.Dropdown(list(COMMON_FOODS.keys()), label=\"Select a Food\")\n",
        "            with gr.Group(visible=False) as manual_entry_group:\n",
        "                manual_food_input = gr.Textbox(label=\"Food Name\")\n",
        "                manual_calorie_input = gr.Number(label=\"Calories (kcal)\", minimum=0)\n",
        "            log_food_button = gr.Button(\"Log Food\", variant=\"primary\")\n",
        "\n",
        "        # --- Output Column ---\n",
        "        with gr.Column(scale=2):\n",
        "            gr.Markdown(\"### Daily Summary\")\n",
        "            food_log_output = gr.Dataframe(\n",
        "                label=\"Today's Food Log\",\n",
        "                headers=[\"Date\", \"Food Item\", \"Calories\"],\n",
        "                datatype=[\"str\", \"str\", \"number\"]\n",
        "            )\n",
        "            total_calories_output = gr.Textbox(label=\"Running Daily Total\", interactive=False)\n",
        "            gr.Markdown(\"### Weekly Progress\")\n",
        "            plot_output = gr.Plot(label=\"Weekly Calorie Intake\")\n",
        "\n",
        "    # --- Event Listeners ---\n",
        "    def toggle_entry_fields(entry_type):\n",
        "        if entry_type == \"Common Food\":\n",
        "            return gr.update(visible=True), gr.update(visible=False)\n",
        "        else:\n",
        "            return gr.update(visible=False), gr.update(visible=True)\n",
        "\n",
        "    entry_type_radio.change(\n",
        "        fn=toggle_entry_fields,\n",
        "        inputs=entry_type_radio,\n",
        "        outputs=[common_food_group, manual_entry_group]\n",
        "    )\n",
        "\n",
        "    all_inputs = [date_input, entry_type_radio, common_food_dropdown, manual_food_input, manual_calorie_input, tdee_input]\n",
        "    all_outputs = [food_log_output, total_calories_output, plot_output, manual_food_input, manual_calorie_input]\n",
        "\n",
        "    log_food_button.click(\n",
        "        fn=process_food_log,\n",
        "        inputs=all_inputs + [gr.State(True)],\n",
        "        outputs=all_outputs\n",
        "    )\n",
        "\n",
        "    date_input.change(\n",
        "        fn=process_food_log,\n",
        "        inputs=all_inputs + [gr.State(False)],\n",
        "        outputs=all_outputs\n",
        "    )\n",
        "\n",
        "    tab3_food_tracker.load(\n",
        "        fn=process_food_log,\n",
        "        inputs=all_inputs + [gr.State(False)],\n",
        "        outputs=all_outputs\n",
        "    )\n",
        "\n",
        "# --- Launch for testing ---\n",
        "\n",
        "tab3_food_tracker.launch()"
      ]
    },
    {
      "cell_type": "markdown",
      "id": "1d0ba607",
      "metadata": {
        "id": "1d0ba607"
      },
      "source": [
        "## References\n",
        "\n",
        "Bidani, S., R, P., Vijayarajan, V., & Prasath, S. (2020). Automatic body mass index detection using correlation of face visual cues. Technology and health care: official journal of the European Society for Engineering and Medicine, 28, 107-112. https://doi.org/10.3233/THC-191850\n",
        "\n",
        "Harris, J. A., & Benedict, F. G. (1918). A Biometric Study of Human Basal Metabolism. Proc Natl Acad Sci U S A, 4(12), 370-373. https://doi.org/10.1073/pnas.4.12.370\n"
      ]
    }
  ],
  "metadata": {
    "kernelspec": {
      "display_name": "Python 3",
      "name": "python3"
    },
    "language_info": {
      "codemirror_mode": {
        "name": "ipython",
        "version": 3
      },
      "file_extension": ".py",
      "mimetype": "text/x-python",
      "name": "python",
      "nbconvert_exporter": "python",
      "pygments_lexer": "ipython3",
      "version": "3.12.4"
    },
    "colab": {
      "provenance": [],
      "gpuType": "T4"
    },
    "accelerator": "GPU"
  },
  "nbformat": 4,
  "nbformat_minor": 5
}